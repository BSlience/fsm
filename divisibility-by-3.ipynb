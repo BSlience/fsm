{
 "cells": [
  {
   "cell_type": "markdown",
   "metadata": {},
   "source": [
    "# FSM and Python Coroutines"
   ]
  },
  {
   "cell_type": "code",
   "execution_count": 1,
   "metadata": {},
   "outputs": [],
   "source": [
    "from asyncio import coroutine"
   ]
  },
  {
   "cell_type": "code",
   "execution_count": 2,
   "metadata": {},
   "outputs": [],
   "source": [
    "def state_0():\n",
    "    global current_state\n",
    "    while True:\n",
    "        digit = yield\n",
    "        if  digit % 3 == 0:\n",
    "            current_state = s0\n",
    "        elif digit % 3 == 1:\n",
    "            current_state = s1\n",
    "        elif digit % 3 == 2:\n",
    "            current_state = s2\n",
    "\n",
    "def state_1():\n",
    "    global current_state\n",
    "    while True:\n",
    "        digit = yield\n",
    "        if  digit % 3 == 0:\n",
    "            current_state = s1\n",
    "        elif digit % 3 == 1:\n",
    "            current_state = s2\n",
    "        elif digit % 3 == 2:\n",
    "            current_state = s0\n",
    "\n",
    "def state_2():\n",
    "    global current_state\n",
    "    while True:\n",
    "        digit = yield\n",
    "        if  digit % 3 == 0:\n",
    "            current_state = s2\n",
    "        elif digit % 3 == 1:\n",
    "            current_state = s0\n",
    "        elif digit % 3 == 2:\n",
    "            current_state = s1\n",
    "\n",
    "def state_init():\n",
    "    global current_state\n",
    "    while True:\n",
    "        digit = yield\n",
    "        if  digit % 3 == 0:\n",
    "            current_state = s0\n",
    "        elif digit % 3 == 1:\n",
    "            current_state = s1\n",
    "        elif digit % 3 == 2:\n",
    "            current_state = s2"
   ]
  },
  {
   "cell_type": "code",
   "execution_count": 3,
   "metadata": {},
   "outputs": [],
   "source": [
    "s_init = state_init()\n",
    "s0 = state_0()\n",
    "s1 = state_1()\n",
    "s2 = state_2()\n",
    "\n",
    "s_init.send(None)\n",
    "s0.send(None)\n",
    "s1.send(None)\n",
    "s2.send(None)"
   ]
  },
  {
   "cell_type": "code",
   "execution_count": 4,
   "metadata": {},
   "outputs": [],
   "source": [
    "current_state = s_init\n",
    "final_state = s0"
   ]
  },
  {
   "cell_type": "code",
   "execution_count": 5,
   "metadata": {},
   "outputs": [],
   "source": [
    "@coroutine\n",
    "def evalator():\n",
    "    digit = 0\n",
    "    while True:\n",
    "        digit = yield\n",
    "        current_state.send(digit)"
   ]
  },
  {
   "cell_type": "code",
   "execution_count": 6,
   "metadata": {},
   "outputs": [],
   "source": [
    "e = evalator()\n",
    "number = \"\""
   ]
  },
  {
   "cell_type": "code",
   "execution_count": 7,
   "metadata": {},
   "outputs": [
    {
     "name": "stdout",
     "output_type": "stream",
     "text": [
      "4 False\n",
      "34 False\n",
      "534 True\n",
      "5534 False\n",
      "15534 True\n",
      "115534 False\n",
      "4115534 False\n",
      "74115534 True\n",
      "974115534 True\n",
      "8974115534 False\n"
     ]
    }
   ],
   "source": [
    "import random\n",
    "\n",
    "e = evalator()\n",
    "e.send(None)\n",
    "for i in range(10):\n",
    "    digit = random.randint(0, 9)\n",
    "    e.send(digit)\n",
    "    number = str(digit) + number\n",
    "    print(number, current_state == final_state)"
   ]
  }
 ],
 "metadata": {
  "kernelspec": {
   "display_name": "Python 3.7.6 64-bit ('venv': venv)",
   "language": "python",
   "name": "python37664bitvenvvenv6e035c6cf3c84bf0b34e7a7ec0f81265"
  },
  "language_info": {
   "codemirror_mode": {
    "name": "ipython",
    "version": 3
   },
   "file_extension": ".py",
   "mimetype": "text/x-python",
   "name": "python",
   "nbconvert_exporter": "python",
   "pygments_lexer": "ipython3",
   "version": "3.7.6"
  }
 },
 "nbformat": 4,
 "nbformat_minor": 4
}
